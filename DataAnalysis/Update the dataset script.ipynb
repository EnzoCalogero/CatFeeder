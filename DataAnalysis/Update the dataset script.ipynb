{
 "cells": [
  {
   "cell_type": "code",
   "execution_count": 40,
   "metadata": {},
   "outputs": [
    {
     "name": "stdout",
     "output_type": "stream",
     "text": [
      "2019-07-08.csv                  \u001b[31mconnect.ssh\u001b[m\u001b[m\r\n",
      "\u001b[34mBigQuery_LondonCrimes\u001b[m\u001b[m           create long term file....ipynb\r\n",
      "Cat feeder.ipynb                fastai_gcp.rtf\r\n",
      "Long Term Analysis .ipynb       improved.csv\r\n",
      "Update the dataset script.ipynb local plotly test.ipynb\r\n",
      "Weight.csv                      mictosoftcompetition notes.rtf\r\n",
      "Weight2019_07_12.csv            pi-iot-project.json\r\n",
      "Weight2019_07_18.csv            temp-plot.html\r\n",
      "Weight2019_07_24.csv            \u001b[34mtraining-data-analyst\u001b[m\u001b[m\r\n"
     ]
    }
   ],
   "source": [
    "!ls\n"
   ]
  },
  {
   "cell_type": "code",
   "execution_count": 41,
   "metadata": {},
   "outputs": [],
   "source": [
    "import os\n",
    "import pandas as pd\n",
    "from pandas.io import gbq\n",
    "from google.cloud import bigquery\n",
    "import matplotlib.pyplot as plt\n",
    "import seaborn as sns\n",
    "%matplotlib inline\n",
    "\n",
    "os.environ[\"GOOGLE_APPLICATION_CREDENTIALS\"] = \"pi-iot-project.json\"\n",
    "\n",
    "# Instantiates a client\n",
    "bigquery_client = bigquery.Client()"
   ]
  },
  {
   "cell_type": "code",
   "execution_count": 42,
   "metadata": {},
   "outputs": [
    {
     "data": {
      "text/html": [
       "<div>\n",
       "<style scoped>\n",
       "    .dataframe tbody tr th:only-of-type {\n",
       "        vertical-align: middle;\n",
       "    }\n",
       "\n",
       "    .dataframe tbody tr th {\n",
       "        vertical-align: top;\n",
       "    }\n",
       "\n",
       "    .dataframe thead th {\n",
       "        text-align: right;\n",
       "    }\n",
       "</style>\n",
       "<table border=\"1\" class=\"dataframe\">\n",
       "  <thead>\n",
       "    <tr style=\"text-align: right;\">\n",
       "      <th></th>\n",
       "      <th>time</th>\n",
       "      <th>val</th>\n",
       "      <th>Day</th>\n",
       "      <th>Hour</th>\n",
       "      <th>delta</th>\n",
       "      <th>eaten</th>\n",
       "      <th>given</th>\n",
       "      <th>eaten_cum_Day</th>\n",
       "      <th>given_cum_Day</th>\n",
       "    </tr>\n",
       "  </thead>\n",
       "  <tbody>\n",
       "    <tr>\n",
       "      <th>8696</th>\n",
       "      <td>2019-07-23 23:34:06</td>\n",
       "      <td>16.0</td>\n",
       "      <td>2019-07-23</td>\n",
       "      <td>23:34:06</td>\n",
       "      <td>0.0</td>\n",
       "      <td>0.0</td>\n",
       "      <td>0.0</td>\n",
       "      <td>75.0</td>\n",
       "      <td>51.0</td>\n",
       "    </tr>\n",
       "    <tr>\n",
       "      <th>8697</th>\n",
       "      <td>2019-07-23 23:39:29</td>\n",
       "      <td>16.0</td>\n",
       "      <td>2019-07-23</td>\n",
       "      <td>23:39:29</td>\n",
       "      <td>0.0</td>\n",
       "      <td>0.0</td>\n",
       "      <td>0.0</td>\n",
       "      <td>75.0</td>\n",
       "      <td>51.0</td>\n",
       "    </tr>\n",
       "    <tr>\n",
       "      <th>8698</th>\n",
       "      <td>2019-07-23 23:44:48</td>\n",
       "      <td>16.0</td>\n",
       "      <td>2019-07-23</td>\n",
       "      <td>23:44:48</td>\n",
       "      <td>0.0</td>\n",
       "      <td>0.0</td>\n",
       "      <td>0.0</td>\n",
       "      <td>75.0</td>\n",
       "      <td>51.0</td>\n",
       "    </tr>\n",
       "    <tr>\n",
       "      <th>8699</th>\n",
       "      <td>2019-07-23 23:50:07</td>\n",
       "      <td>16.0</td>\n",
       "      <td>2019-07-23</td>\n",
       "      <td>23:50:07</td>\n",
       "      <td>0.0</td>\n",
       "      <td>0.0</td>\n",
       "      <td>0.0</td>\n",
       "      <td>75.0</td>\n",
       "      <td>51.0</td>\n",
       "    </tr>\n",
       "    <tr>\n",
       "      <th>8700</th>\n",
       "      <td>2019-07-23 23:55:29</td>\n",
       "      <td>16.0</td>\n",
       "      <td>2019-07-23</td>\n",
       "      <td>23:55:29</td>\n",
       "      <td>0.0</td>\n",
       "      <td>0.0</td>\n",
       "      <td>0.0</td>\n",
       "      <td>75.0</td>\n",
       "      <td>51.0</td>\n",
       "    </tr>\n",
       "  </tbody>\n",
       "</table>\n",
       "</div>"
      ],
      "text/plain": [
       "                     time   val         Day       Hour  delta  eaten  given  \\\n",
       "8696  2019-07-23 23:34:06  16.0  2019-07-23   23:34:06    0.0    0.0    0.0   \n",
       "8697  2019-07-23 23:39:29  16.0  2019-07-23   23:39:29    0.0    0.0    0.0   \n",
       "8698  2019-07-23 23:44:48  16.0  2019-07-23   23:44:48    0.0    0.0    0.0   \n",
       "8699  2019-07-23 23:50:07  16.0  2019-07-23   23:50:07    0.0    0.0    0.0   \n",
       "8700  2019-07-23 23:55:29  16.0  2019-07-23   23:55:29    0.0    0.0    0.0   \n",
       "\n",
       "      eaten_cum_Day  given_cum_Day  \n",
       "8696           75.0           51.0  \n",
       "8697           75.0           51.0  \n",
       "8698           75.0           51.0  \n",
       "8699           75.0           51.0  \n",
       "8700           75.0           51.0  "
      ]
     },
     "execution_count": 42,
     "metadata": {},
     "output_type": "execute_result"
    }
   ],
   "source": [
    "improved_old=pd.read_csv('improved.csv')\n",
    "improved_old.tail()"
   ]
  },
  {
   "cell_type": "code",
   "execution_count": 43,
   "metadata": {},
   "outputs": [
    {
     "data": {
      "text/plain": [
       "'\\nSELECT time, val FROM `pi-iot-project-235918.home.sensors` \\nwhere sensor = \"Weight\"\\nand time >\\'2019-07-24 00:00:00\\'\\norder by time desc \\n'"
      ]
     },
     "execution_count": 43,
     "metadata": {},
     "output_type": "execute_result"
    }
   ],
   "source": [
    "last_input=improved_old['time'].max()\n",
    "last_input=last_input[:10]+\" 00:00:00\"\n",
    "query = '''\n",
    "SELECT time, val FROM `pi-iot-project-235918.home.sensors` \n",
    "where sensor = \"Weight\"\n",
    "and time >'{}'\n",
    "order by time desc \n",
    "'''.format(last_input)\n",
    "# LIMIT 200\n",
    "query"
   ]
  },
  {
   "cell_type": "code",
   "execution_count": 44,
   "metadata": {},
   "outputs": [],
   "source": [
    "df = gbq.read_gbq(query, dialect='standard' );"
   ]
  },
  {
   "cell_type": "code",
   "execution_count": 45,
   "metadata": {},
   "outputs": [
    {
     "data": {
      "text/html": [
       "<div>\n",
       "<style scoped>\n",
       "    .dataframe tbody tr th:only-of-type {\n",
       "        vertical-align: middle;\n",
       "    }\n",
       "\n",
       "    .dataframe tbody tr th {\n",
       "        vertical-align: top;\n",
       "    }\n",
       "\n",
       "    .dataframe thead th {\n",
       "        text-align: right;\n",
       "    }\n",
       "</style>\n",
       "<table border=\"1\" class=\"dataframe\">\n",
       "  <thead>\n",
       "    <tr style=\"text-align: right;\">\n",
       "      <th></th>\n",
       "      <th>time</th>\n",
       "      <th>val</th>\n",
       "    </tr>\n",
       "  </thead>\n",
       "  <tbody>\n",
       "    <tr>\n",
       "      <th>0</th>\n",
       "      <td>2019-07-26 13:02:30</td>\n",
       "      <td>37.0</td>\n",
       "    </tr>\n",
       "    <tr>\n",
       "      <th>1</th>\n",
       "      <td>2019-07-26 12:57:10</td>\n",
       "      <td>37.0</td>\n",
       "    </tr>\n",
       "    <tr>\n",
       "      <th>2</th>\n",
       "      <td>2019-07-26 12:51:53</td>\n",
       "      <td>37.0</td>\n",
       "    </tr>\n",
       "    <tr>\n",
       "      <th>3</th>\n",
       "      <td>2019-07-26 12:46:32</td>\n",
       "      <td>37.0</td>\n",
       "    </tr>\n",
       "    <tr>\n",
       "      <th>4</th>\n",
       "      <td>2019-07-26 12:41:08</td>\n",
       "      <td>37.0</td>\n",
       "    </tr>\n",
       "  </tbody>\n",
       "</table>\n",
       "</div>"
      ],
      "text/plain": [
       "                 time   val\n",
       "0 2019-07-26 13:02:30  37.0\n",
       "1 2019-07-26 12:57:10  37.0\n",
       "2 2019-07-26 12:51:53  37.0\n",
       "3 2019-07-26 12:46:32  37.0\n",
       "4 2019-07-26 12:41:08  37.0"
      ]
     },
     "execution_count": 45,
     "metadata": {},
     "output_type": "execute_result"
    }
   ],
   "source": [
    "df.head()"
   ]
  },
  {
   "cell_type": "code",
   "execution_count": 46,
   "metadata": {},
   "outputs": [
    {
     "data": {
      "text/plain": [
       "time    687\n",
       "val     687\n",
       "dtype: int64"
      ]
     },
     "execution_count": 46,
     "metadata": {},
     "output_type": "execute_result"
    }
   ],
   "source": [
    "df.count()"
   ]
  },
  {
   "cell_type": "code",
   "execution_count": 47,
   "metadata": {},
   "outputs": [],
   "source": [
    "\n",
    "df['time'] = df['time'].astype(str)\n",
    "\n",
    "# Weight val cleaning\n",
    "\n",
    "df=df[df.val > 0]\n",
    "df=df[df.val < 200]\n",
    "\n",
    "df['Day']=df['time'].str[:10]\n",
    "df['Hour']=df['time'].str[10:]  "
   ]
  },
  {
   "cell_type": "markdown",
   "metadata": {},
   "source": [
    "### Creating new Dataframe"
   ]
  },
  {
   "cell_type": "code",
   "execution_count": 49,
   "metadata": {},
   "outputs": [
    {
     "name": "stdout",
     "output_type": "stream",
     "text": [
      "2019-07-25\n"
     ]
    },
    {
     "name": "stderr",
     "output_type": "stream",
     "text": [
      "/Users/Enzo.Calogero/anaconda3/envs/google/lib/python3.6/site-packages/pandas/core/indexing.py:190: SettingWithCopyWarning: \n",
      "A value is trying to be set on a copy of a slice from a DataFrame\n",
      "\n",
      "See the caveats in the documentation: http://pandas.pydata.org/pandas-docs/stable/indexing.html#indexing-view-versus-copy\n",
      "  self._setitem_with_indexer(indexer, value)\n"
     ]
    },
    {
     "name": "stdout",
     "output_type": "stream",
     "text": [
      "2019-07-24\n"
     ]
    },
    {
     "name": "stderr",
     "output_type": "stream",
     "text": [
      "/Users/Enzo.Calogero/anaconda3/envs/google/lib/python3.6/site-packages/pandas/core/indexing.py:190: SettingWithCopyWarning: \n",
      "A value is trying to be set on a copy of a slice from a DataFrame\n",
      "\n",
      "See the caveats in the documentation: http://pandas.pydata.org/pandas-docs/stable/indexing.html#indexing-view-versus-copy\n",
      "  self._setitem_with_indexer(indexer, value)\n"
     ]
    },
    {
     "name": "stdout",
     "output_type": "stream",
     "text": [
      "2019-07-26\n"
     ]
    },
    {
     "name": "stderr",
     "output_type": "stream",
     "text": [
      "/Users/Enzo.Calogero/anaconda3/envs/google/lib/python3.6/site-packages/pandas/core/indexing.py:190: SettingWithCopyWarning: \n",
      "A value is trying to be set on a copy of a slice from a DataFrame\n",
      "\n",
      "See the caveats in the documentation: http://pandas.pydata.org/pandas-docs/stable/indexing.html#indexing-view-versus-copy\n",
      "  self._setitem_with_indexer(indexer, value)\n"
     ]
    }
   ],
   "source": [
    "# Converting function!!\n",
    "\n",
    "# Data for the Days in the last query\n",
    "Days=list(set(df['Day'])) \n",
    "\n",
    "#remove the last incomplete day...\n",
    "improved=improved[~improved.Day.isin(Days)]\n",
    "\n",
    "\n",
    "for day in Days:\n",
    "    print(day)\n",
    "    temp=df.copy(deep=True)\n",
    "\n",
    "    temp=temp[temp.Day == day]\n",
    "    temp = temp.sort_values(['time'])\n",
    "    \n",
    "    temp['delta']=0\n",
    "    temp['eaten']=0\n",
    "    temp['given']=0\n",
    "\n",
    "    for i in range(1, len(temp)):\n",
    "        value = temp['val'].iloc[i] - temp['val'].iloc[i-1]\n",
    "        temp['delta'].iloc[i]=value\n",
    "        if value < 0:\n",
    "            temp['eaten'].iloc[i]= value * (-1)\n",
    "        if value > 0:\n",
    "            temp['given'].iloc[i]= value \n",
    "            \n",
    "    \n",
    "    temp['eaten_cum_Day']=temp['eaten']\n",
    "    temp['given_cum_Day']=temp['given']\n",
    "\n",
    "    for i in range(1, len(temp)):\n",
    "\n",
    "        value = temp['eaten_cum_Day'].iloc[i-1] + temp['eaten_cum_Day'].iloc[i]\n",
    "        temp['eaten_cum_Day'].iloc[i]=value\n",
    "\n",
    "        value = temp['given_cum_Day'].iloc[i-1] + temp['given_cum_Day'].iloc[i]\n",
    "        temp['given_cum_Day'].iloc[i]=value\n",
    "    \n",
    "    \n",
    "    improved=improved.append(temp)\n",
    "\n",
    "    "
   ]
  },
  {
   "cell_type": "code",
   "execution_count": 52,
   "metadata": {},
   "outputs": [
    {
     "data": {
      "text/html": [
       "<div>\n",
       "<style scoped>\n",
       "    .dataframe tbody tr th:only-of-type {\n",
       "        vertical-align: middle;\n",
       "    }\n",
       "\n",
       "    .dataframe tbody tr th {\n",
       "        vertical-align: top;\n",
       "    }\n",
       "\n",
       "    .dataframe thead th {\n",
       "        text-align: right;\n",
       "    }\n",
       "</style>\n",
       "<table border=\"1\" class=\"dataframe\">\n",
       "  <thead>\n",
       "    <tr style=\"text-align: right;\">\n",
       "      <th></th>\n",
       "      <th>time</th>\n",
       "      <th>val</th>\n",
       "      <th>Day</th>\n",
       "      <th>Hour</th>\n",
       "      <th>delta</th>\n",
       "      <th>eaten</th>\n",
       "      <th>given</th>\n",
       "      <th>eaten_cum_Day</th>\n",
       "      <th>given_cum_Day</th>\n",
       "    </tr>\n",
       "  </thead>\n",
       "  <tbody>\n",
       "    <tr>\n",
       "      <th>0</th>\n",
       "      <td>2019-06-26 07:15:45</td>\n",
       "      <td>15.0</td>\n",
       "      <td>2019-06-26</td>\n",
       "      <td>07:15:45</td>\n",
       "      <td>0.0</td>\n",
       "      <td>0.0</td>\n",
       "      <td>0.0</td>\n",
       "      <td>0.0</td>\n",
       "      <td>0.0</td>\n",
       "    </tr>\n",
       "    <tr>\n",
       "      <th>1</th>\n",
       "      <td>2019-06-26 07:21:01</td>\n",
       "      <td>15.0</td>\n",
       "      <td>2019-06-26</td>\n",
       "      <td>07:21:01</td>\n",
       "      <td>0.0</td>\n",
       "      <td>0.0</td>\n",
       "      <td>0.0</td>\n",
       "      <td>0.0</td>\n",
       "      <td>0.0</td>\n",
       "    </tr>\n",
       "    <tr>\n",
       "      <th>2</th>\n",
       "      <td>2019-06-26 07:26:17</td>\n",
       "      <td>14.0</td>\n",
       "      <td>2019-06-26</td>\n",
       "      <td>07:26:17</td>\n",
       "      <td>-1.0</td>\n",
       "      <td>1.0</td>\n",
       "      <td>0.0</td>\n",
       "      <td>1.0</td>\n",
       "      <td>0.0</td>\n",
       "    </tr>\n",
       "    <tr>\n",
       "      <th>3</th>\n",
       "      <td>2019-06-26 07:31:33</td>\n",
       "      <td>14.0</td>\n",
       "      <td>2019-06-26</td>\n",
       "      <td>07:31:33</td>\n",
       "      <td>0.0</td>\n",
       "      <td>0.0</td>\n",
       "      <td>0.0</td>\n",
       "      <td>1.0</td>\n",
       "      <td>0.0</td>\n",
       "    </tr>\n",
       "    <tr>\n",
       "      <th>4</th>\n",
       "      <td>2019-06-26 07:36:53</td>\n",
       "      <td>14.0</td>\n",
       "      <td>2019-06-26</td>\n",
       "      <td>07:36:53</td>\n",
       "      <td>0.0</td>\n",
       "      <td>0.0</td>\n",
       "      <td>0.0</td>\n",
       "      <td>1.0</td>\n",
       "      <td>0.0</td>\n",
       "    </tr>\n",
       "  </tbody>\n",
       "</table>\n",
       "</div>"
      ],
      "text/plain": [
       "                  time   val         Day       Hour  delta  eaten  given  \\\n",
       "0  2019-06-26 07:15:45  15.0  2019-06-26   07:15:45    0.0    0.0    0.0   \n",
       "1  2019-06-26 07:21:01  15.0  2019-06-26   07:21:01    0.0    0.0    0.0   \n",
       "2  2019-06-26 07:26:17  14.0  2019-06-26   07:26:17   -1.0    1.0    0.0   \n",
       "3  2019-06-26 07:31:33  14.0  2019-06-26   07:31:33    0.0    0.0    0.0   \n",
       "4  2019-06-26 07:36:53  14.0  2019-06-26   07:36:53    0.0    0.0    0.0   \n",
       "\n",
       "   eaten_cum_Day  given_cum_Day  \n",
       "0            0.0            0.0  \n",
       "1            0.0            0.0  \n",
       "2            1.0            0.0  \n",
       "3            1.0            0.0  \n",
       "4            1.0            0.0  "
      ]
     },
     "execution_count": 52,
     "metadata": {},
     "output_type": "execute_result"
    }
   ],
   "source": [
    "improved.head()"
   ]
  },
  {
   "cell_type": "code",
   "execution_count": 53,
   "metadata": {},
   "outputs": [],
   "source": [
    "improved.to_csv('improved.csv', index=False)"
   ]
  },
  {
   "cell_type": "code",
   "execution_count": null,
   "metadata": {},
   "outputs": [],
   "source": []
  },
  {
   "cell_type": "markdown",
   "metadata": {},
   "source": [
    "### test"
   ]
  },
  {
   "cell_type": "code",
   "execution_count": 54,
   "metadata": {},
   "outputs": [],
   "source": [
    "from datetime import datetime as dt"
   ]
  },
  {
   "cell_type": "code",
   "execution_count": 59,
   "metadata": {},
   "outputs": [
    {
     "data": {
      "text/plain": [
       "'2019-07-26'"
      ]
     },
     "execution_count": 59,
     "metadata": {},
     "output_type": "execute_result"
    }
   ],
   "source": [
    "dt.today().strftime(\"%Y-%m-%d\")"
   ]
  },
  {
   "cell_type": "code",
   "execution_count": null,
   "metadata": {},
   "outputs": [],
   "source": []
  }
 ],
 "metadata": {
  "kernelspec": {
   "display_name": "Python 3",
   "language": "python",
   "name": "python3"
  },
  "language_info": {
   "codemirror_mode": {
    "name": "ipython",
    "version": 3
   },
   "file_extension": ".py",
   "mimetype": "text/x-python",
   "name": "python",
   "nbconvert_exporter": "python",
   "pygments_lexer": "ipython3",
   "version": "3.6.8"
  }
 },
 "nbformat": 4,
 "nbformat_minor": 2
}
